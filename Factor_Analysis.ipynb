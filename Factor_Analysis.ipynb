{
  "nbformat": 4,
  "nbformat_minor": 0,
  "metadata": {
    "colab": {
      "provenance": [],
      "authorship_tag": "ABX9TyO/Z1x7wKBVVS8sqHWTX+GH",
      "include_colab_link": true
    },
    "kernelspec": {
      "name": "python3",
      "display_name": "Python 3"
    },
    "language_info": {
      "name": "python"
    }
  },
  "cells": [
    {
      "cell_type": "markdown",
      "metadata": {
        "id": "view-in-github",
        "colab_type": "text"
      },
      "source": [
        "<a href=\"https://colab.research.google.com/github/Dhakal33/Factor-Analysis-of-Likert-Scale-Data/blob/main/Factor_Analysis.ipynb\" target=\"_parent\"><img src=\"https://colab.research.google.com/assets/colab-badge.svg\" alt=\"Open In Colab\"/></a>"
      ]
    },
    {
      "cell_type": "markdown",
      "source": [
        "### **Exploratory Factor Analysis of Likert Scale Data**\n",
        "\n",
        "This study aims to identify the factors influencing consumer buying behavior towards purchasing two-wheeler in the Nepalese market.\n",
        "\n",
        "Please refer to this publication to understand the methodology employed to analyze the survey data.\n",
        "\n",
        "Bhattarai, A., Dhakal, S., Gautam, Y., Bhattarai, N., Jha, B., & Sharma, U. (2022). Perception of safety culture in the Nepalese aviation industry: A factor analysis approach. Transportation Research Interdisciplinary Perspectives, 16, 100723. DOI: https://doi.org/10.1016/j.trip.2022.100723"
      ],
      "metadata": {
        "id": "SHEwDQZ1SJXs"
      }
    },
    {
      "cell_type": "code",
      "execution_count": 102,
      "metadata": {
        "colab": {
          "base_uri": "https://localhost:8080/",
          "height": 73
        },
        "id": "nmlpxby3HDrx",
        "outputId": "5a226796-23d4-4161-b6b7-c3a113ee6446"
      },
      "outputs": [
        {
          "output_type": "display_data",
          "data": {
            "text/plain": [
              "<IPython.core.display.HTML object>"
            ],
            "text/html": [
              "\n",
              "     <input type=\"file\" id=\"files-a1ba461e-3029-4e89-9bd2-62df461b389d\" name=\"files[]\" multiple disabled\n",
              "        style=\"border:none\" />\n",
              "     <output id=\"result-a1ba461e-3029-4e89-9bd2-62df461b389d\">\n",
              "      Upload widget is only available when the cell has been executed in the\n",
              "      current browser session. Please rerun this cell to enable.\n",
              "      </output>\n",
              "      <script>// Copyright 2017 Google LLC\n",
              "//\n",
              "// Licensed under the Apache License, Version 2.0 (the \"License\");\n",
              "// you may not use this file except in compliance with the License.\n",
              "// You may obtain a copy of the License at\n",
              "//\n",
              "//      http://www.apache.org/licenses/LICENSE-2.0\n",
              "//\n",
              "// Unless required by applicable law or agreed to in writing, software\n",
              "// distributed under the License is distributed on an \"AS IS\" BASIS,\n",
              "// WITHOUT WARRANTIES OR CONDITIONS OF ANY KIND, either express or implied.\n",
              "// See the License for the specific language governing permissions and\n",
              "// limitations under the License.\n",
              "\n",
              "/**\n",
              " * @fileoverview Helpers for google.colab Python module.\n",
              " */\n",
              "(function(scope) {\n",
              "function span(text, styleAttributes = {}) {\n",
              "  const element = document.createElement('span');\n",
              "  element.textContent = text;\n",
              "  for (const key of Object.keys(styleAttributes)) {\n",
              "    element.style[key] = styleAttributes[key];\n",
              "  }\n",
              "  return element;\n",
              "}\n",
              "\n",
              "// Max number of bytes which will be uploaded at a time.\n",
              "const MAX_PAYLOAD_SIZE = 100 * 1024;\n",
              "\n",
              "function _uploadFiles(inputId, outputId) {\n",
              "  const steps = uploadFilesStep(inputId, outputId);\n",
              "  const outputElement = document.getElementById(outputId);\n",
              "  // Cache steps on the outputElement to make it available for the next call\n",
              "  // to uploadFilesContinue from Python.\n",
              "  outputElement.steps = steps;\n",
              "\n",
              "  return _uploadFilesContinue(outputId);\n",
              "}\n",
              "\n",
              "// This is roughly an async generator (not supported in the browser yet),\n",
              "// where there are multiple asynchronous steps and the Python side is going\n",
              "// to poll for completion of each step.\n",
              "// This uses a Promise to block the python side on completion of each step,\n",
              "// then passes the result of the previous step as the input to the next step.\n",
              "function _uploadFilesContinue(outputId) {\n",
              "  const outputElement = document.getElementById(outputId);\n",
              "  const steps = outputElement.steps;\n",
              "\n",
              "  const next = steps.next(outputElement.lastPromiseValue);\n",
              "  return Promise.resolve(next.value.promise).then((value) => {\n",
              "    // Cache the last promise value to make it available to the next\n",
              "    // step of the generator.\n",
              "    outputElement.lastPromiseValue = value;\n",
              "    return next.value.response;\n",
              "  });\n",
              "}\n",
              "\n",
              "/**\n",
              " * Generator function which is called between each async step of the upload\n",
              " * process.\n",
              " * @param {string} inputId Element ID of the input file picker element.\n",
              " * @param {string} outputId Element ID of the output display.\n",
              " * @return {!Iterable<!Object>} Iterable of next steps.\n",
              " */\n",
              "function* uploadFilesStep(inputId, outputId) {\n",
              "  const inputElement = document.getElementById(inputId);\n",
              "  inputElement.disabled = false;\n",
              "\n",
              "  const outputElement = document.getElementById(outputId);\n",
              "  outputElement.innerHTML = '';\n",
              "\n",
              "  const pickedPromise = new Promise((resolve) => {\n",
              "    inputElement.addEventListener('change', (e) => {\n",
              "      resolve(e.target.files);\n",
              "    });\n",
              "  });\n",
              "\n",
              "  const cancel = document.createElement('button');\n",
              "  inputElement.parentElement.appendChild(cancel);\n",
              "  cancel.textContent = 'Cancel upload';\n",
              "  const cancelPromise = new Promise((resolve) => {\n",
              "    cancel.onclick = () => {\n",
              "      resolve(null);\n",
              "    };\n",
              "  });\n",
              "\n",
              "  // Wait for the user to pick the files.\n",
              "  const files = yield {\n",
              "    promise: Promise.race([pickedPromise, cancelPromise]),\n",
              "    response: {\n",
              "      action: 'starting',\n",
              "    }\n",
              "  };\n",
              "\n",
              "  cancel.remove();\n",
              "\n",
              "  // Disable the input element since further picks are not allowed.\n",
              "  inputElement.disabled = true;\n",
              "\n",
              "  if (!files) {\n",
              "    return {\n",
              "      response: {\n",
              "        action: 'complete',\n",
              "      }\n",
              "    };\n",
              "  }\n",
              "\n",
              "  for (const file of files) {\n",
              "    const li = document.createElement('li');\n",
              "    li.append(span(file.name, {fontWeight: 'bold'}));\n",
              "    li.append(span(\n",
              "        `(${file.type || 'n/a'}) - ${file.size} bytes, ` +\n",
              "        `last modified: ${\n",
              "            file.lastModifiedDate ? file.lastModifiedDate.toLocaleDateString() :\n",
              "                                    'n/a'} - `));\n",
              "    const percent = span('0% done');\n",
              "    li.appendChild(percent);\n",
              "\n",
              "    outputElement.appendChild(li);\n",
              "\n",
              "    const fileDataPromise = new Promise((resolve) => {\n",
              "      const reader = new FileReader();\n",
              "      reader.onload = (e) => {\n",
              "        resolve(e.target.result);\n",
              "      };\n",
              "      reader.readAsArrayBuffer(file);\n",
              "    });\n",
              "    // Wait for the data to be ready.\n",
              "    let fileData = yield {\n",
              "      promise: fileDataPromise,\n",
              "      response: {\n",
              "        action: 'continue',\n",
              "      }\n",
              "    };\n",
              "\n",
              "    // Use a chunked sending to avoid message size limits. See b/62115660.\n",
              "    let position = 0;\n",
              "    do {\n",
              "      const length = Math.min(fileData.byteLength - position, MAX_PAYLOAD_SIZE);\n",
              "      const chunk = new Uint8Array(fileData, position, length);\n",
              "      position += length;\n",
              "\n",
              "      const base64 = btoa(String.fromCharCode.apply(null, chunk));\n",
              "      yield {\n",
              "        response: {\n",
              "          action: 'append',\n",
              "          file: file.name,\n",
              "          data: base64,\n",
              "        },\n",
              "      };\n",
              "\n",
              "      let percentDone = fileData.byteLength === 0 ?\n",
              "          100 :\n",
              "          Math.round((position / fileData.byteLength) * 100);\n",
              "      percent.textContent = `${percentDone}% done`;\n",
              "\n",
              "    } while (position < fileData.byteLength);\n",
              "  }\n",
              "\n",
              "  // All done.\n",
              "  yield {\n",
              "    response: {\n",
              "      action: 'complete',\n",
              "    }\n",
              "  };\n",
              "}\n",
              "\n",
              "scope.google = scope.google || {};\n",
              "scope.google.colab = scope.google.colab || {};\n",
              "scope.google.colab._files = {\n",
              "  _uploadFiles,\n",
              "  _uploadFilesContinue,\n",
              "};\n",
              "})(self);\n",
              "</script> "
            ]
          },
          "metadata": {}
        },
        {
          "output_type": "stream",
          "name": "stdout",
          "text": [
            "Saving ConsumerBuyingBehavior_forGIT.xlsx to ConsumerBuyingBehavior_forGIT (2).xlsx\n"
          ]
        }
      ],
      "source": [
        "# Import survey data\n",
        "from google.colab import files\n",
        "uploaded = files.upload()"
      ]
    },
    {
      "cell_type": "code",
      "source": [
        "# Install the library \"factor_analyzer\"\n",
        "!pip install factor_analyzer"
      ],
      "metadata": {
        "colab": {
          "base_uri": "https://localhost:8080/"
        },
        "id": "PaXSu4phIHYN",
        "outputId": "c50f146a-6190-4606-91a2-c536e69ceecd"
      },
      "execution_count": null,
      "outputs": [
        {
          "output_type": "stream",
          "name": "stdout",
          "text": [
            "Collecting factor_analyzer\n",
            "  Downloading factor_analyzer-0.5.1.tar.gz (42 kB)\n",
            "\u001b[?25l     \u001b[90m━━━━━━━━━━━━━━━━━━━━━━━━━━━━━━━━━━━━━━━━\u001b[0m \u001b[32m0.0/42.8 kB\u001b[0m \u001b[31m?\u001b[0m eta \u001b[36m-:--:--\u001b[0m\r\u001b[2K     \u001b[90m━━━━━━━━━━━━━━━━━━━━━━━━━━━━━━━━━━━━━━━━\u001b[0m \u001b[32m42.8/42.8 kB\u001b[0m \u001b[31m1.4 MB/s\u001b[0m eta \u001b[36m0:00:00\u001b[0m\n",
            "\u001b[?25h  Installing build dependencies ... \u001b[?25l\u001b[?25hdone\n",
            "  Getting requirements to build wheel ... \u001b[?25l\u001b[?25hdone\n",
            "  Installing backend dependencies ... \u001b[?25l\u001b[?25hdone\n",
            "  Preparing metadata (pyproject.toml) ... \u001b[?25l\u001b[?25hdone\n",
            "Requirement already satisfied: pandas in /usr/local/lib/python3.10/dist-packages (from factor_analyzer) (2.0.3)\n",
            "Requirement already satisfied: scipy in /usr/local/lib/python3.10/dist-packages (from factor_analyzer) (1.11.4)\n",
            "Requirement already satisfied: numpy in /usr/local/lib/python3.10/dist-packages (from factor_analyzer) (1.25.2)\n",
            "Requirement already satisfied: scikit-learn in /usr/local/lib/python3.10/dist-packages (from factor_analyzer) (1.2.2)\n",
            "Requirement already satisfied: python-dateutil>=2.8.2 in /usr/local/lib/python3.10/dist-packages (from pandas->factor_analyzer) (2.8.2)\n",
            "Requirement already satisfied: pytz>=2020.1 in /usr/local/lib/python3.10/dist-packages (from pandas->factor_analyzer) (2023.4)\n",
            "Requirement already satisfied: tzdata>=2022.1 in /usr/local/lib/python3.10/dist-packages (from pandas->factor_analyzer) (2024.1)\n",
            "Requirement already satisfied: joblib>=1.1.1 in /usr/local/lib/python3.10/dist-packages (from scikit-learn->factor_analyzer) (1.3.2)\n",
            "Requirement already satisfied: threadpoolctl>=2.0.0 in /usr/local/lib/python3.10/dist-packages (from scikit-learn->factor_analyzer) (3.4.0)\n",
            "Requirement already satisfied: six>=1.5 in /usr/local/lib/python3.10/dist-packages (from python-dateutil>=2.8.2->pandas->factor_analyzer) (1.16.0)\n",
            "Building wheels for collected packages: factor_analyzer\n",
            "  Building wheel for factor_analyzer (pyproject.toml) ... \u001b[?25l\u001b[?25hdone\n",
            "  Created wheel for factor_analyzer: filename=factor_analyzer-0.5.1-py2.py3-none-any.whl size=42564 sha256=c72fcd5428fd3518cfb40eec38635211d0809ecc91c34777f3e0577f951017ed\n",
            "  Stored in directory: /root/.cache/pip/wheels/24/59/82/6493618e30ed1cb7a013b9e1b0c9e17de80b04dfcef4ba8a4d\n",
            "Successfully built factor_analyzer\n",
            "Installing collected packages: factor_analyzer\n",
            "Successfully installed factor_analyzer-0.5.1\n"
          ]
        }
      ]
    },
    {
      "cell_type": "code",
      "source": [
        "# Import libraries\n",
        "import pandas as pd\n",
        "import numpy as np\n",
        "from factor_analyzer import FactorAnalyzer\n",
        "import matplotlib.pyplot as plt"
      ],
      "metadata": {
        "id": "nQFZiMnUHXA8"
      },
      "execution_count": 103,
      "outputs": []
    },
    {
      "cell_type": "code",
      "source": [
        "df = pd.read_excel(\"ConsumerBuyingBehavior_forGIT (2).xlsx\")\n",
        "df.head()"
      ],
      "metadata": {
        "colab": {
          "base_uri": "https://localhost:8080/",
          "height": 206
        },
        "id": "zTUWYJtlHW-W",
        "outputId": "152110af-3990-44f5-f889-37fca3eeadde"
      },
      "execution_count": 105,
      "outputs": [
        {
          "output_type": "execute_result",
          "data": {
            "text/plain": [
              "   MinimalOperationCost  Storage  EasyHandling  HighPickup  \\\n",
              "0                     3        3             4           4   \n",
              "1                     4        3             4           4   \n",
              "2                     4        2             4           4   \n",
              "3                     4        3             4           4   \n",
              "4                     4        1             3           3   \n",
              "\n",
              "   EfficientBrakingSystem  AttractiveOuterBodyDesign  MobileAppConnectivity  \\\n",
              "0                       4                          3                      2   \n",
              "1                       5                          4                      2   \n",
              "2                       5                          4                      3   \n",
              "3                       4                          3                      2   \n",
              "4                       5                          3                      1   \n",
              "\n",
              "   EfficientCustomerService  EasyAvailabilityOfSpareParts  HighResaleValue  \n",
              "0                         4                             4                4  \n",
              "1                         5                             4                4  \n",
              "2                         4                             4                3  \n",
              "3                         5                             5                5  \n",
              "4                         3                             2                2  "
            ],
            "text/html": [
              "\n",
              "  <div id=\"df-92d351fd-3baf-45ab-a903-cb4ab7ae4361\" class=\"colab-df-container\">\n",
              "    <div>\n",
              "<style scoped>\n",
              "    .dataframe tbody tr th:only-of-type {\n",
              "        vertical-align: middle;\n",
              "    }\n",
              "\n",
              "    .dataframe tbody tr th {\n",
              "        vertical-align: top;\n",
              "    }\n",
              "\n",
              "    .dataframe thead th {\n",
              "        text-align: right;\n",
              "    }\n",
              "</style>\n",
              "<table border=\"1\" class=\"dataframe\">\n",
              "  <thead>\n",
              "    <tr style=\"text-align: right;\">\n",
              "      <th></th>\n",
              "      <th>MinimalOperationCost</th>\n",
              "      <th>Storage</th>\n",
              "      <th>EasyHandling</th>\n",
              "      <th>HighPickup</th>\n",
              "      <th>EfficientBrakingSystem</th>\n",
              "      <th>AttractiveOuterBodyDesign</th>\n",
              "      <th>MobileAppConnectivity</th>\n",
              "      <th>EfficientCustomerService</th>\n",
              "      <th>EasyAvailabilityOfSpareParts</th>\n",
              "      <th>HighResaleValue</th>\n",
              "    </tr>\n",
              "  </thead>\n",
              "  <tbody>\n",
              "    <tr>\n",
              "      <th>0</th>\n",
              "      <td>3</td>\n",
              "      <td>3</td>\n",
              "      <td>4</td>\n",
              "      <td>4</td>\n",
              "      <td>4</td>\n",
              "      <td>3</td>\n",
              "      <td>2</td>\n",
              "      <td>4</td>\n",
              "      <td>4</td>\n",
              "      <td>4</td>\n",
              "    </tr>\n",
              "    <tr>\n",
              "      <th>1</th>\n",
              "      <td>4</td>\n",
              "      <td>3</td>\n",
              "      <td>4</td>\n",
              "      <td>4</td>\n",
              "      <td>5</td>\n",
              "      <td>4</td>\n",
              "      <td>2</td>\n",
              "      <td>5</td>\n",
              "      <td>4</td>\n",
              "      <td>4</td>\n",
              "    </tr>\n",
              "    <tr>\n",
              "      <th>2</th>\n",
              "      <td>4</td>\n",
              "      <td>2</td>\n",
              "      <td>4</td>\n",
              "      <td>4</td>\n",
              "      <td>5</td>\n",
              "      <td>4</td>\n",
              "      <td>3</td>\n",
              "      <td>4</td>\n",
              "      <td>4</td>\n",
              "      <td>3</td>\n",
              "    </tr>\n",
              "    <tr>\n",
              "      <th>3</th>\n",
              "      <td>4</td>\n",
              "      <td>3</td>\n",
              "      <td>4</td>\n",
              "      <td>4</td>\n",
              "      <td>4</td>\n",
              "      <td>3</td>\n",
              "      <td>2</td>\n",
              "      <td>5</td>\n",
              "      <td>5</td>\n",
              "      <td>5</td>\n",
              "    </tr>\n",
              "    <tr>\n",
              "      <th>4</th>\n",
              "      <td>4</td>\n",
              "      <td>1</td>\n",
              "      <td>3</td>\n",
              "      <td>3</td>\n",
              "      <td>5</td>\n",
              "      <td>3</td>\n",
              "      <td>1</td>\n",
              "      <td>3</td>\n",
              "      <td>2</td>\n",
              "      <td>2</td>\n",
              "    </tr>\n",
              "  </tbody>\n",
              "</table>\n",
              "</div>\n",
              "    <div class=\"colab-df-buttons\">\n",
              "\n",
              "  <div class=\"colab-df-container\">\n",
              "    <button class=\"colab-df-convert\" onclick=\"convertToInteractive('df-92d351fd-3baf-45ab-a903-cb4ab7ae4361')\"\n",
              "            title=\"Convert this dataframe to an interactive table.\"\n",
              "            style=\"display:none;\">\n",
              "\n",
              "  <svg xmlns=\"http://www.w3.org/2000/svg\" height=\"24px\" viewBox=\"0 -960 960 960\">\n",
              "    <path d=\"M120-120v-720h720v720H120Zm60-500h600v-160H180v160Zm220 220h160v-160H400v160Zm0 220h160v-160H400v160ZM180-400h160v-160H180v160Zm440 0h160v-160H620v160ZM180-180h160v-160H180v160Zm440 0h160v-160H620v160Z\"/>\n",
              "  </svg>\n",
              "    </button>\n",
              "\n",
              "  <style>\n",
              "    .colab-df-container {\n",
              "      display:flex;\n",
              "      gap: 12px;\n",
              "    }\n",
              "\n",
              "    .colab-df-convert {\n",
              "      background-color: #E8F0FE;\n",
              "      border: none;\n",
              "      border-radius: 50%;\n",
              "      cursor: pointer;\n",
              "      display: none;\n",
              "      fill: #1967D2;\n",
              "      height: 32px;\n",
              "      padding: 0 0 0 0;\n",
              "      width: 32px;\n",
              "    }\n",
              "\n",
              "    .colab-df-convert:hover {\n",
              "      background-color: #E2EBFA;\n",
              "      box-shadow: 0px 1px 2px rgba(60, 64, 67, 0.3), 0px 1px 3px 1px rgba(60, 64, 67, 0.15);\n",
              "      fill: #174EA6;\n",
              "    }\n",
              "\n",
              "    .colab-df-buttons div {\n",
              "      margin-bottom: 4px;\n",
              "    }\n",
              "\n",
              "    [theme=dark] .colab-df-convert {\n",
              "      background-color: #3B4455;\n",
              "      fill: #D2E3FC;\n",
              "    }\n",
              "\n",
              "    [theme=dark] .colab-df-convert:hover {\n",
              "      background-color: #434B5C;\n",
              "      box-shadow: 0px 1px 3px 1px rgba(0, 0, 0, 0.15);\n",
              "      filter: drop-shadow(0px 1px 2px rgba(0, 0, 0, 0.3));\n",
              "      fill: #FFFFFF;\n",
              "    }\n",
              "  </style>\n",
              "\n",
              "    <script>\n",
              "      const buttonEl =\n",
              "        document.querySelector('#df-92d351fd-3baf-45ab-a903-cb4ab7ae4361 button.colab-df-convert');\n",
              "      buttonEl.style.display =\n",
              "        google.colab.kernel.accessAllowed ? 'block' : 'none';\n",
              "\n",
              "      async function convertToInteractive(key) {\n",
              "        const element = document.querySelector('#df-92d351fd-3baf-45ab-a903-cb4ab7ae4361');\n",
              "        const dataTable =\n",
              "          await google.colab.kernel.invokeFunction('convertToInteractive',\n",
              "                                                    [key], {});\n",
              "        if (!dataTable) return;\n",
              "\n",
              "        const docLinkHtml = 'Like what you see? Visit the ' +\n",
              "          '<a target=\"_blank\" href=https://colab.research.google.com/notebooks/data_table.ipynb>data table notebook</a>'\n",
              "          + ' to learn more about interactive tables.';\n",
              "        element.innerHTML = '';\n",
              "        dataTable['output_type'] = 'display_data';\n",
              "        await google.colab.output.renderOutput(dataTable, element);\n",
              "        const docLink = document.createElement('div');\n",
              "        docLink.innerHTML = docLinkHtml;\n",
              "        element.appendChild(docLink);\n",
              "      }\n",
              "    </script>\n",
              "  </div>\n",
              "\n",
              "\n",
              "<div id=\"df-3ea5f4d3-bcb5-4490-89fa-5c277ab848a8\">\n",
              "  <button class=\"colab-df-quickchart\" onclick=\"quickchart('df-3ea5f4d3-bcb5-4490-89fa-5c277ab848a8')\"\n",
              "            title=\"Suggest charts\"\n",
              "            style=\"display:none;\">\n",
              "\n",
              "<svg xmlns=\"http://www.w3.org/2000/svg\" height=\"24px\"viewBox=\"0 0 24 24\"\n",
              "     width=\"24px\">\n",
              "    <g>\n",
              "        <path d=\"M19 3H5c-1.1 0-2 .9-2 2v14c0 1.1.9 2 2 2h14c1.1 0 2-.9 2-2V5c0-1.1-.9-2-2-2zM9 17H7v-7h2v7zm4 0h-2V7h2v10zm4 0h-2v-4h2v4z\"/>\n",
              "    </g>\n",
              "</svg>\n",
              "  </button>\n",
              "\n",
              "<style>\n",
              "  .colab-df-quickchart {\n",
              "      --bg-color: #E8F0FE;\n",
              "      --fill-color: #1967D2;\n",
              "      --hover-bg-color: #E2EBFA;\n",
              "      --hover-fill-color: #174EA6;\n",
              "      --disabled-fill-color: #AAA;\n",
              "      --disabled-bg-color: #DDD;\n",
              "  }\n",
              "\n",
              "  [theme=dark] .colab-df-quickchart {\n",
              "      --bg-color: #3B4455;\n",
              "      --fill-color: #D2E3FC;\n",
              "      --hover-bg-color: #434B5C;\n",
              "      --hover-fill-color: #FFFFFF;\n",
              "      --disabled-bg-color: #3B4455;\n",
              "      --disabled-fill-color: #666;\n",
              "  }\n",
              "\n",
              "  .colab-df-quickchart {\n",
              "    background-color: var(--bg-color);\n",
              "    border: none;\n",
              "    border-radius: 50%;\n",
              "    cursor: pointer;\n",
              "    display: none;\n",
              "    fill: var(--fill-color);\n",
              "    height: 32px;\n",
              "    padding: 0;\n",
              "    width: 32px;\n",
              "  }\n",
              "\n",
              "  .colab-df-quickchart:hover {\n",
              "    background-color: var(--hover-bg-color);\n",
              "    box-shadow: 0 1px 2px rgba(60, 64, 67, 0.3), 0 1px 3px 1px rgba(60, 64, 67, 0.15);\n",
              "    fill: var(--button-hover-fill-color);\n",
              "  }\n",
              "\n",
              "  .colab-df-quickchart-complete:disabled,\n",
              "  .colab-df-quickchart-complete:disabled:hover {\n",
              "    background-color: var(--disabled-bg-color);\n",
              "    fill: var(--disabled-fill-color);\n",
              "    box-shadow: none;\n",
              "  }\n",
              "\n",
              "  .colab-df-spinner {\n",
              "    border: 2px solid var(--fill-color);\n",
              "    border-color: transparent;\n",
              "    border-bottom-color: var(--fill-color);\n",
              "    animation:\n",
              "      spin 1s steps(1) infinite;\n",
              "  }\n",
              "\n",
              "  @keyframes spin {\n",
              "    0% {\n",
              "      border-color: transparent;\n",
              "      border-bottom-color: var(--fill-color);\n",
              "      border-left-color: var(--fill-color);\n",
              "    }\n",
              "    20% {\n",
              "      border-color: transparent;\n",
              "      border-left-color: var(--fill-color);\n",
              "      border-top-color: var(--fill-color);\n",
              "    }\n",
              "    30% {\n",
              "      border-color: transparent;\n",
              "      border-left-color: var(--fill-color);\n",
              "      border-top-color: var(--fill-color);\n",
              "      border-right-color: var(--fill-color);\n",
              "    }\n",
              "    40% {\n",
              "      border-color: transparent;\n",
              "      border-right-color: var(--fill-color);\n",
              "      border-top-color: var(--fill-color);\n",
              "    }\n",
              "    60% {\n",
              "      border-color: transparent;\n",
              "      border-right-color: var(--fill-color);\n",
              "    }\n",
              "    80% {\n",
              "      border-color: transparent;\n",
              "      border-right-color: var(--fill-color);\n",
              "      border-bottom-color: var(--fill-color);\n",
              "    }\n",
              "    90% {\n",
              "      border-color: transparent;\n",
              "      border-bottom-color: var(--fill-color);\n",
              "    }\n",
              "  }\n",
              "</style>\n",
              "\n",
              "  <script>\n",
              "    async function quickchart(key) {\n",
              "      const quickchartButtonEl =\n",
              "        document.querySelector('#' + key + ' button');\n",
              "      quickchartButtonEl.disabled = true;  // To prevent multiple clicks.\n",
              "      quickchartButtonEl.classList.add('colab-df-spinner');\n",
              "      try {\n",
              "        const charts = await google.colab.kernel.invokeFunction(\n",
              "            'suggestCharts', [key], {});\n",
              "      } catch (error) {\n",
              "        console.error('Error during call to suggestCharts:', error);\n",
              "      }\n",
              "      quickchartButtonEl.classList.remove('colab-df-spinner');\n",
              "      quickchartButtonEl.classList.add('colab-df-quickchart-complete');\n",
              "    }\n",
              "    (() => {\n",
              "      let quickchartButtonEl =\n",
              "        document.querySelector('#df-3ea5f4d3-bcb5-4490-89fa-5c277ab848a8 button');\n",
              "      quickchartButtonEl.style.display =\n",
              "        google.colab.kernel.accessAllowed ? 'block' : 'none';\n",
              "    })();\n",
              "  </script>\n",
              "</div>\n",
              "\n",
              "    </div>\n",
              "  </div>\n"
            ],
            "application/vnd.google.colaboratory.intrinsic+json": {
              "type": "dataframe",
              "variable_name": "df",
              "summary": "{\n  \"name\": \"df\",\n  \"rows\": 237,\n  \"fields\": [\n    {\n      \"column\": \"MinimalOperationCost\",\n      \"properties\": {\n        \"dtype\": \"number\",\n        \"std\": 0,\n        \"min\": 1,\n        \"max\": 5,\n        \"num_unique_values\": 5,\n        \"samples\": [\n          4,\n          2,\n          5\n        ],\n        \"semantic_type\": \"\",\n        \"description\": \"\"\n      }\n    },\n    {\n      \"column\": \"Storage\",\n      \"properties\": {\n        \"dtype\": \"number\",\n        \"std\": 0,\n        \"min\": 1,\n        \"max\": 5,\n        \"num_unique_values\": 5,\n        \"samples\": [\n          2,\n          5,\n          1\n        ],\n        \"semantic_type\": \"\",\n        \"description\": \"\"\n      }\n    },\n    {\n      \"column\": \"EasyHandling\",\n      \"properties\": {\n        \"dtype\": \"number\",\n        \"std\": 0,\n        \"min\": 1,\n        \"max\": 5,\n        \"num_unique_values\": 5,\n        \"samples\": [\n          3,\n          1,\n          5\n        ],\n        \"semantic_type\": \"\",\n        \"description\": \"\"\n      }\n    },\n    {\n      \"column\": \"HighPickup\",\n      \"properties\": {\n        \"dtype\": \"number\",\n        \"std\": 0,\n        \"min\": 1,\n        \"max\": 5,\n        \"num_unique_values\": 5,\n        \"samples\": [\n          3,\n          1,\n          5\n        ],\n        \"semantic_type\": \"\",\n        \"description\": \"\"\n      }\n    },\n    {\n      \"column\": \"EfficientBrakingSystem\",\n      \"properties\": {\n        \"dtype\": \"number\",\n        \"std\": 0,\n        \"min\": 3,\n        \"max\": 5,\n        \"num_unique_values\": 3,\n        \"samples\": [\n          4,\n          5,\n          3\n        ],\n        \"semantic_type\": \"\",\n        \"description\": \"\"\n      }\n    },\n    {\n      \"column\": \"AttractiveOuterBodyDesign\",\n      \"properties\": {\n        \"dtype\": \"number\",\n        \"std\": 0,\n        \"min\": 1,\n        \"max\": 5,\n        \"num_unique_values\": 5,\n        \"samples\": [\n          4,\n          1,\n          5\n        ],\n        \"semantic_type\": \"\",\n        \"description\": \"\"\n      }\n    },\n    {\n      \"column\": \"MobileAppConnectivity\",\n      \"properties\": {\n        \"dtype\": \"number\",\n        \"std\": 1,\n        \"min\": 1,\n        \"max\": 5,\n        \"num_unique_values\": 5,\n        \"samples\": [\n          3,\n          5,\n          1\n        ],\n        \"semantic_type\": \"\",\n        \"description\": \"\"\n      }\n    },\n    {\n      \"column\": \"EfficientCustomerService\",\n      \"properties\": {\n        \"dtype\": \"number\",\n        \"std\": 0,\n        \"min\": 1,\n        \"max\": 5,\n        \"num_unique_values\": 5,\n        \"samples\": [\n          5,\n          1,\n          3\n        ],\n        \"semantic_type\": \"\",\n        \"description\": \"\"\n      }\n    },\n    {\n      \"column\": \"EasyAvailabilityOfSpareParts\",\n      \"properties\": {\n        \"dtype\": \"number\",\n        \"std\": 0,\n        \"min\": 2,\n        \"max\": 5,\n        \"num_unique_values\": 4,\n        \"samples\": [\n          5,\n          3,\n          4\n        ],\n        \"semantic_type\": \"\",\n        \"description\": \"\"\n      }\n    },\n    {\n      \"column\": \"HighResaleValue\",\n      \"properties\": {\n        \"dtype\": \"number\",\n        \"std\": 0,\n        \"min\": 2,\n        \"max\": 5,\n        \"num_unique_values\": 4,\n        \"samples\": [\n          3,\n          2,\n          4\n        ],\n        \"semantic_type\": \"\",\n        \"description\": \"\"\n      }\n    }\n  ]\n}"
            }
          },
          "metadata": {},
          "execution_count": 105
        }
      ]
    },
    {
      "cell_type": "code",
      "source": [
        "indVar = df.columns\n",
        "indVar"
      ],
      "metadata": {
        "colab": {
          "base_uri": "https://localhost:8080/"
        },
        "id": "H82JM6nLHXDU",
        "outputId": "5b9f7d89-77ec-4fec-9c10-a0ebe317d12d"
      },
      "execution_count": 106,
      "outputs": [
        {
          "output_type": "execute_result",
          "data": {
            "text/plain": [
              "Index(['MinimalOperationCost', 'Storage', 'EasyHandling', 'HighPickup',\n",
              "       'EfficientBrakingSystem', 'AttractiveOuterBodyDesign',\n",
              "       'MobileAppConnectivity', 'EfficientCustomerService',\n",
              "       'EasyAvailabilityOfSpareParts', 'HighResaleValue'],\n",
              "      dtype='object')"
            ]
          },
          "metadata": {},
          "execution_count": 106
        }
      ]
    },
    {
      "cell_type": "code",
      "source": [
        "# Dropping unnecessary columns - Only including the factors with Likert scale data\n",
        "# df.drop(['Gender', 'AgeGroup', 'EducationalDegree', 'Employment', 'MaritalStatus', 'AnnualEarning', 'LocalGovernment', 'DailyTravelDistance', 'RightInitialInvestment'],axis=1,inplace=True)"
      ],
      "metadata": {
        "id": "fcMauU49HXFt"
      },
      "execution_count": 107,
      "outputs": []
    },
    {
      "cell_type": "code",
      "source": [
        "# Dropping missing values rows\n",
        "df.dropna(inplace=True)"
      ],
      "metadata": {
        "id": "ZDlMknd2HXH1"
      },
      "execution_count": 108,
      "outputs": []
    },
    {
      "cell_type": "code",
      "source": [
        "df.info()"
      ],
      "metadata": {
        "colab": {
          "base_uri": "https://localhost:8080/"
        },
        "id": "cLbDrUaAKI7H",
        "outputId": "305a439d-fbb3-4907-821f-7b2d52f9031a"
      },
      "execution_count": 109,
      "outputs": [
        {
          "output_type": "stream",
          "name": "stdout",
          "text": [
            "<class 'pandas.core.frame.DataFrame'>\n",
            "RangeIndex: 237 entries, 0 to 236\n",
            "Data columns (total 10 columns):\n",
            " #   Column                        Non-Null Count  Dtype\n",
            "---  ------                        --------------  -----\n",
            " 0   MinimalOperationCost          237 non-null    int64\n",
            " 1   Storage                       237 non-null    int64\n",
            " 2   EasyHandling                  237 non-null    int64\n",
            " 3   HighPickup                    237 non-null    int64\n",
            " 4   EfficientBrakingSystem        237 non-null    int64\n",
            " 5   AttractiveOuterBodyDesign     237 non-null    int64\n",
            " 6   MobileAppConnectivity         237 non-null    int64\n",
            " 7   EfficientCustomerService      237 non-null    int64\n",
            " 8   EasyAvailabilityOfSpareParts  237 non-null    int64\n",
            " 9   HighResaleValue               237 non-null    int64\n",
            "dtypes: int64(10)\n",
            "memory usage: 18.6 KB\n"
          ]
        }
      ]
    },
    {
      "cell_type": "markdown",
      "source": [
        "# **Adequacy Test**\n",
        "*To understand if our data is suitbale for exploratory factor analysis*"
      ],
      "metadata": {
        "id": "R7-_2hgbKoce"
      }
    },
    {
      "cell_type": "code",
      "source": [
        "# Bartlett’s test of sphericity\n",
        "from factor_analyzer.factor_analyzer import calculate_bartlett_sphericity\n",
        "chi_square_value, p_value = calculate_bartlett_sphericity(df)\n",
        "chi_square_value, p_value"
      ],
      "metadata": {
        "colab": {
          "base_uri": "https://localhost:8080/"
        },
        "id": "KvVBFwOhKOuh",
        "outputId": "124b259e-ba03-4c92-8c2d-a2a34d1c5873"
      },
      "execution_count": 111,
      "outputs": [
        {
          "output_type": "execute_result",
          "data": {
            "text/plain": [
              "(330.51288323392373, 4.0127628470497245e-45)"
            ]
          },
          "metadata": {},
          "execution_count": 111
        }
      ]
    },
    {
      "cell_type": "markdown",
      "source": [
        "In this Bartlett ’s test, the p-value is 0. Hence, the test was statistically significant, indicating that the observed correlation matrix is not an identity matrix."
      ],
      "metadata": {
        "id": "kbQjeaacK3YO"
      }
    },
    {
      "cell_type": "code",
      "source": [
        "# Kaiser-Meyer-Olkin (KMO) Test\n",
        "from factor_analyzer.factor_analyzer import calculate_kmo\n",
        "kmo_overall, kmo_model = calculate_kmo(df)\n",
        "kmo_model"
      ],
      "metadata": {
        "colab": {
          "base_uri": "https://localhost:8080/"
        },
        "id": "M3gjcACpKhtj",
        "outputId": "176a60fb-04e9-4533-ec82-600e0274f220"
      },
      "execution_count": 112,
      "outputs": [
        {
          "output_type": "execute_result",
          "data": {
            "text/plain": [
              "0.6891620231139561"
            ]
          },
          "metadata": {},
          "execution_count": 112
        }
      ]
    },
    {
      "cell_type": "markdown",
      "source": [
        "According to Tabachnick et al. (2007), a KMO of 0.60 or higher is required to apply factor analysis. Hence, it is appropriate to apply factor analytical techniques to this data set."
      ],
      "metadata": {
        "id": "DIxySQ-hLMYC"
      }
    },
    {
      "cell_type": "markdown",
      "source": [
        "## **Exploratory Factor Analysis**"
      ],
      "metadata": {
        "id": "jEliwxi0EgYM"
      }
    },
    {
      "cell_type": "code",
      "source": [
        "# Create factor analysis object and perform factor analysis\n",
        "factorA = FactorAnalyzer()\n",
        "factorA.fit(df)\n",
        "\n",
        "# Check Eigenvalues\n",
        "eigen_values, eigen_vectors = factorA.get_eigenvalues()\n",
        "eigen_values"
      ],
      "metadata": {
        "colab": {
          "base_uri": "https://localhost:8080/"
        },
        "id": "UJe1KDiRKOxY",
        "outputId": "a462e8ce-d8c8-4b97-8775-2fa6ca93753a"
      },
      "execution_count": 113,
      "outputs": [
        {
          "output_type": "execute_result",
          "data": {
            "text/plain": [
              "array([2.68844844, 1.30346949, 1.17550406, 1.02179137, 0.80277521,\n",
              "       0.74440858, 0.67687576, 0.66388431, 0.47772338, 0.4451194 ])"
            ]
          },
          "metadata": {},
          "execution_count": 113
        }
      ]
    },
    {
      "cell_type": "code",
      "source": [
        "# Create scree plot using matplotlib\n",
        "plt.scatter(range(1,df.shape[1]+1),eigen_values)\n",
        "plt.plot(range(1,df.shape[1]+1),eigen_values)\n",
        "plt.title('Scree Plot')\n",
        "plt.xlabel('Factors')\n",
        "plt.ylabel('Eigenvalue')\n",
        "plt.grid()\n",
        "plt.show()"
      ],
      "metadata": {
        "colab": {
          "base_uri": "https://localhost:8080/",
          "height": 472
        },
        "id": "ciBxfp0fKO0g",
        "outputId": "64917314-4caf-428a-84de-0be5944e740e"
      },
      "execution_count": 114,
      "outputs": [
        {
          "output_type": "display_data",
          "data": {
            "text/plain": [
              "<Figure size 640x480 with 1 Axes>"
            ],
            "image/png": "[encoded data removed]"
          },
          "metadata": {}
        }
      ]
    },
    {
      "cell_type": "markdown",
      "source": [
        "There are four factors with Eigen Values greater than 1. So, rerun the factor analyzer with four number of factors with varimax rotation to understand the factor loading."
      ],
      "metadata": {
        "id": "FJOzmqiwFVXV"
      }
    },
    {
      "cell_type": "code",
      "source": [
        "fa = FactorAnalyzer()\n",
        "fa.set_params(n_factors=4, rotation='varimax')\n",
        "fa.fit(df)\n",
        "loadings = fa.loadings_"
      ],
      "metadata": {
        "id": "lk9kfufQKO3q"
      },
      "execution_count": 115,
      "outputs": []
    },
    {
      "cell_type": "code",
      "source": [
        "print(loadings)"
      ],
      "metadata": {
        "colab": {
          "base_uri": "https://localhost:8080/"
        },
        "id": "RB_c8Xa4N8mg",
        "outputId": "73608143-f33f-42e9-b361-d9bd569abcf9"
      },
      "execution_count": 116,
      "outputs": [
        {
          "output_type": "stream",
          "name": "stdout",
          "text": [
            "[[ 7.78854093e-02 -5.77302958e-03  3.27940851e-01 -2.23212480e-01]\n",
            " [ 8.93152069e-02  4.23371782e-01  1.43153708e-01 -8.73246585e-02]\n",
            " [ 1.83169250e-01  9.05609700e-02  4.69467177e-01  7.88590431e-02]\n",
            " [ 9.00050791e-02  1.44265140e-01  5.67058863e-01  1.32424605e-01]\n",
            " [ 2.98584117e-02  9.84123543e-02  5.47800239e-01  7.64775783e-02]\n",
            " [ 1.13076649e-01  5.29727782e-02  2.15332819e-01  9.68718680e-01]\n",
            " [ 9.16860903e-02  8.44736786e-01  3.33687492e-02  1.44172947e-01]\n",
            " [ 4.02798701e-01  3.00377426e-01  2.57491314e-01  4.99661181e-02]\n",
            " [ 9.49845853e-01  9.87405814e-02  1.32291278e-01  9.10865499e-04]\n",
            " [ 3.13250484e-01  3.25009123e-01  1.02839226e-01  1.07234350e-01]]\n"
          ]
        }
      ]
    },
    {
      "cell_type": "code",
      "source": [
        "# Get variance of each factors\n",
        "fa.get_factor_variance()"
      ],
      "metadata": {
        "colab": {
          "base_uri": "https://localhost:8080/"
        },
        "id": "TkXZUYIQN8o_",
        "outputId": "f28ccf9c-d168-4071-e991-98162ce45722"
      },
      "execution_count": 117,
      "outputs": [
        {
          "output_type": "execute_result",
          "data": {
            "text/plain": [
              "(array([1.24035923, 1.13996929, 1.11193883, 1.06025162]),\n",
              " array([0.12403592, 0.11399693, 0.11119388, 0.10602516]),\n",
              " array([0.12403592, 0.23803285, 0.34922673, 0.4552519 ]))"
            ]
          },
          "metadata": {},
          "execution_count": 117
        }
      ]
    },
    {
      "cell_type": "markdown",
      "source": [
        "1st Row: SS Loading\n",
        "\n",
        "2nd Row: Proportional Variance\n",
        "\n",
        "3rd Row: Cumulative Variance\n",
        "\n",
        "The selected factors explain 45% of the variance in the dataset."
      ],
      "metadata": {
        "id": "51AH_drSSeDs"
      }
    },
    {
      "cell_type": "markdown",
      "source": [
        "## **Post processing**"
      ],
      "metadata": {
        "id": "5fyPZPTUHr48"
      }
    },
    {
      "cell_type": "code",
      "source": [
        "# Covnert numpy arrays to dataframe\n",
        "loadings_df = pd.DataFrame({'Factor1': loadings[:, 0], 'Factor2': loadings[:, 1], 'Factor3': loadings[:, 2],'Factor4': loadings[:, 3]})\n",
        "print(loadings_df)"
      ],
      "metadata": {
        "id": "uhMsC_xJQH4L",
        "colab": {
          "base_uri": "https://localhost:8080/"
        },
        "outputId": "9916c04c-7ba3-4b0a-a469-fb6ac1aec0e7"
      },
      "execution_count": 118,
      "outputs": [
        {
          "output_type": "stream",
          "name": "stdout",
          "text": [
            "    Factor1   Factor2   Factor3   Factor4\n",
            "0  0.077885 -0.005773  0.327941 -0.223212\n",
            "1  0.089315  0.423372  0.143154 -0.087325\n",
            "2  0.183169  0.090561  0.469467  0.078859\n",
            "3  0.090005  0.144265  0.567059  0.132425\n",
            "4  0.029858  0.098412  0.547800  0.076478\n",
            "5  0.113077  0.052973  0.215333  0.968719\n",
            "6  0.091686  0.844737  0.033369  0.144173\n",
            "7  0.402799  0.300377  0.257491  0.049966\n",
            "8  0.949846  0.098741  0.132291  0.000911\n",
            "9  0.313250  0.325009  0.102839  0.107234\n"
          ]
        }
      ]
    },
    {
      "cell_type": "code",
      "source": [
        "loadings_df_gt_32 = np.argwhere(loadings_df.to_numpy()>=0.32).tolist()\n",
        "print(loadings_df_gt_32)"
      ],
      "metadata": {
        "colab": {
          "base_uri": "https://localhost:8080/"
        },
        "id": "7SBlY3zdGfiq",
        "outputId": "728e68f0-81b1-402e-d6d5-a6035e10e469"
      },
      "execution_count": 119,
      "outputs": [
        {
          "output_type": "stream",
          "name": "stdout",
          "text": [
            "[[0, 2], [1, 1], [2, 2], [3, 2], [4, 2], [5, 3], [6, 1], [7, 0], [8, 0], [9, 1]]\n"
          ]
        }
      ]
    },
    {
      "cell_type": "markdown",
      "source": [
        "An arbitrarily chosen factor loading of 0.32 is selected as a filtering criteria to determine the practical importance of the factors."
      ],
      "metadata": {
        "id": "ppHfd_kEQ5kQ"
      }
    },
    {
      "cell_type": "code",
      "source": [
        "loadings_df.style.applymap(lambda x: 'background-color : green' if x>0.32 else '')"
      ],
      "metadata": {
        "colab": {
          "base_uri": "https://localhost:8080/",
          "height": 363
        },
        "id": "kud6YYSJG_lx",
        "outputId": "dd358298-15d5-4d94-ea4d-01784af2c10e"
      },
      "execution_count": 120,
      "outputs": [
        {
          "output_type": "execute_result",
          "data": {
            "text/plain": [
              "<pandas.io.formats.style.Styler at 0x7c148046dd50>"
            ],
            "text/html": [
              "<style type=\"text/css\">\n",
              "#T_b9799_row0_col2, #T_b9799_row1_col1, #T_b9799_row2_col2, #T_b9799_row3_col2, #T_b9799_row4_col2, #T_b9799_row5_col3, #T_b9799_row6_col1, #T_b9799_row7_col0, #T_b9799_row8_col0, #T_b9799_row9_col1 {\n",
              "  background-color: green;\n",
              "}\n",
              "</style>\n",
              "<table id=\"T_b9799\" class=\"dataframe\">\n",
              "  <thead>\n",
              "    <tr>\n",
              "      <th class=\"blank level0\" >&nbsp;</th>\n",
              "      <th id=\"T_b9799_level0_col0\" class=\"col_heading level0 col0\" >Factor1</th>\n",
              "      <th id=\"T_b9799_level0_col1\" class=\"col_heading level0 col1\" >Factor2</th>\n",
              "      <th id=\"T_b9799_level0_col2\" class=\"col_heading level0 col2\" >Factor3</th>\n",
              "      <th id=\"T_b9799_level0_col3\" class=\"col_heading level0 col3\" >Factor4</th>\n",
              "    </tr>\n",
              "  </thead>\n",
              "  <tbody>\n",
              "    <tr>\n",
              "      <th id=\"T_b9799_level0_row0\" class=\"row_heading level0 row0\" >0</th>\n",
              "      <td id=\"T_b9799_row0_col0\" class=\"data row0 col0\" >0.077885</td>\n",
              "      <td id=\"T_b9799_row0_col1\" class=\"data row0 col1\" >-0.005773</td>\n",
              "      <td id=\"T_b9799_row0_col2\" class=\"data row0 col2\" >0.327941</td>\n",
              "      <td id=\"T_b9799_row0_col3\" class=\"data row0 col3\" >-0.223212</td>\n",
              "    </tr>\n",
              "    <tr>\n",
              "      <th id=\"T_b9799_level0_row1\" class=\"row_heading level0 row1\" >1</th>\n",
              "      <td id=\"T_b9799_row1_col0\" class=\"data row1 col0\" >0.089315</td>\n",
              "      <td id=\"T_b9799_row1_col1\" class=\"data row1 col1\" >0.423372</td>\n",
              "      <td id=\"T_b9799_row1_col2\" class=\"data row1 col2\" >0.143154</td>\n",
              "      <td id=\"T_b9799_row1_col3\" class=\"data row1 col3\" >-0.087325</td>\n",
              "    </tr>\n",
              "    <tr>\n",
              "      <th id=\"T_b9799_level0_row2\" class=\"row_heading level0 row2\" >2</th>\n",
              "      <td id=\"T_b9799_row2_col0\" class=\"data row2 col0\" >0.183169</td>\n",
              "      <td id=\"T_b9799_row2_col1\" class=\"data row2 col1\" >0.090561</td>\n",
              "      <td id=\"T_b9799_row2_col2\" class=\"data row2 col2\" >0.469467</td>\n",
              "      <td id=\"T_b9799_row2_col3\" class=\"data row2 col3\" >0.078859</td>\n",
              "    </tr>\n",
              "    <tr>\n",
              "      <th id=\"T_b9799_level0_row3\" class=\"row_heading level0 row3\" >3</th>\n",
              "      <td id=\"T_b9799_row3_col0\" class=\"data row3 col0\" >0.090005</td>\n",
              "      <td id=\"T_b9799_row3_col1\" class=\"data row3 col1\" >0.144265</td>\n",
              "      <td id=\"T_b9799_row3_col2\" class=\"data row3 col2\" >0.567059</td>\n",
              "      <td id=\"T_b9799_row3_col3\" class=\"data row3 col3\" >0.132425</td>\n",
              "    </tr>\n",
              "    <tr>\n",
              "      <th id=\"T_b9799_level0_row4\" class=\"row_heading level0 row4\" >4</th>\n",
              "      <td id=\"T_b9799_row4_col0\" class=\"data row4 col0\" >0.029858</td>\n",
              "      <td id=\"T_b9799_row4_col1\" class=\"data row4 col1\" >0.098412</td>\n",
              "      <td id=\"T_b9799_row4_col2\" class=\"data row4 col2\" >0.547800</td>\n",
              "      <td id=\"T_b9799_row4_col3\" class=\"data row4 col3\" >0.076478</td>\n",
              "    </tr>\n",
              "    <tr>\n",
              "      <th id=\"T_b9799_level0_row5\" class=\"row_heading level0 row5\" >5</th>\n",
              "      <td id=\"T_b9799_row5_col0\" class=\"data row5 col0\" >0.113077</td>\n",
              "      <td id=\"T_b9799_row5_col1\" class=\"data row5 col1\" >0.052973</td>\n",
              "      <td id=\"T_b9799_row5_col2\" class=\"data row5 col2\" >0.215333</td>\n",
              "      <td id=\"T_b9799_row5_col3\" class=\"data row5 col3\" >0.968719</td>\n",
              "    </tr>\n",
              "    <tr>\n",
              "      <th id=\"T_b9799_level0_row6\" class=\"row_heading level0 row6\" >6</th>\n",
              "      <td id=\"T_b9799_row6_col0\" class=\"data row6 col0\" >0.091686</td>\n",
              "      <td id=\"T_b9799_row6_col1\" class=\"data row6 col1\" >0.844737</td>\n",
              "      <td id=\"T_b9799_row6_col2\" class=\"data row6 col2\" >0.033369</td>\n",
              "      <td id=\"T_b9799_row6_col3\" class=\"data row6 col3\" >0.144173</td>\n",
              "    </tr>\n",
              "    <tr>\n",
              "      <th id=\"T_b9799_level0_row7\" class=\"row_heading level0 row7\" >7</th>\n",
              "      <td id=\"T_b9799_row7_col0\" class=\"data row7 col0\" >0.402799</td>\n",
              "      <td id=\"T_b9799_row7_col1\" class=\"data row7 col1\" >0.300377</td>\n",
              "      <td id=\"T_b9799_row7_col2\" class=\"data row7 col2\" >0.257491</td>\n",
              "      <td id=\"T_b9799_row7_col3\" class=\"data row7 col3\" >0.049966</td>\n",
              "    </tr>\n",
              "    <tr>\n",
              "      <th id=\"T_b9799_level0_row8\" class=\"row_heading level0 row8\" >8</th>\n",
              "      <td id=\"T_b9799_row8_col0\" class=\"data row8 col0\" >0.949846</td>\n",
              "      <td id=\"T_b9799_row8_col1\" class=\"data row8 col1\" >0.098741</td>\n",
              "      <td id=\"T_b9799_row8_col2\" class=\"data row8 col2\" >0.132291</td>\n",
              "      <td id=\"T_b9799_row8_col3\" class=\"data row8 col3\" >0.000911</td>\n",
              "    </tr>\n",
              "    <tr>\n",
              "      <th id=\"T_b9799_level0_row9\" class=\"row_heading level0 row9\" >9</th>\n",
              "      <td id=\"T_b9799_row9_col0\" class=\"data row9 col0\" >0.313250</td>\n",
              "      <td id=\"T_b9799_row9_col1\" class=\"data row9 col1\" >0.325009</td>\n",
              "      <td id=\"T_b9799_row9_col2\" class=\"data row9 col2\" >0.102839</td>\n",
              "      <td id=\"T_b9799_row9_col3\" class=\"data row9 col3\" >0.107234</td>\n",
              "    </tr>\n",
              "  </tbody>\n",
              "</table>\n"
            ]
          },
          "metadata": {},
          "execution_count": 120
        }
      ]
    },
    {
      "cell_type": "code",
      "source": [
        "# Insert a column in the dataframe to include original independent variables\n",
        "loadings_df.insert(0, 'Independent Variables', indVar, True)\n",
        "# loadings_df.set_index('Independent Variables')\n",
        "print(loadings_df)"
      ],
      "metadata": {
        "colab": {
          "base_uri": "https://localhost:8080/"
        },
        "id": "hVtJKGcNMyat",
        "outputId": "df3e33fd-038a-41eb-ab0a-811e876b5998"
      },
      "execution_count": 121,
      "outputs": [
        {
          "output_type": "stream",
          "name": "stdout",
          "text": [
            "          Independent Variables   Factor1   Factor2   Factor3   Factor4\n",
            "0          MinimalOperationCost  0.077885 -0.005773  0.327941 -0.223212\n",
            "1                       Storage  0.089315  0.423372  0.143154 -0.087325\n",
            "2                  EasyHandling  0.183169  0.090561  0.469467  0.078859\n",
            "3                    HighPickup  0.090005  0.144265  0.567059  0.132425\n",
            "4        EfficientBrakingSystem  0.029858  0.098412  0.547800  0.076478\n",
            "5     AttractiveOuterBodyDesign  0.113077  0.052973  0.215333  0.968719\n",
            "6         MobileAppConnectivity  0.091686  0.844737  0.033369  0.144173\n",
            "7      EfficientCustomerService  0.402799  0.300377  0.257491  0.049966\n",
            "8  EasyAvailabilityOfSpareParts  0.949846  0.098741  0.132291  0.000911\n",
            "9               HighResaleValue  0.313250  0.325009  0.102839  0.107234\n"
          ]
        }
      ]
    },
    {
      "cell_type": "markdown",
      "source": [
        "# **Conclusion**\n",
        "Factor 1: Efficient Customer Service and Easy Availability Of Spare Parts  \n",
        "\n",
        "Factor 2: Storage, Mobile App Connectivity, and High Resale Value\n",
        "\n",
        "Factor 3: Minimal Operation Cost, Easy Handling, High Pickup, and Efficient Braking System\n",
        "\n",
        "Factor 4: Attractive Outer Body Design\n",
        "\n",
        "The survey respondents value efficient customer service and easy availability of spare parts over other variables considered in this study. Likewise, the outer body design is the least important factor determining the purchase decision of two-wheeler."
      ],
      "metadata": {
        "id": "gdL9XJhhP1c1"
      }
    }
  ]
}